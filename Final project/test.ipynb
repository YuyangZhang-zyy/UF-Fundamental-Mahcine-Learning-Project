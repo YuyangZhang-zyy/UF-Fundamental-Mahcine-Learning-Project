{
 "cells": [
  {
   "cell_type": "markdown",
   "id": "ed31e057-b664-4b4c-9bea-065d8c59aabf",
   "metadata": {},
   "source": [
    "## Import libaraies"
   ]
  },
  {
   "cell_type": "code",
   "execution_count": 1,
   "id": "dc714058-ff1f-4800-8b67-cf75a65ea888",
   "metadata": {},
   "outputs": [],
   "source": [
    "import numpy as np\n",
    "import numpy.random as npr\n",
    "import matplotlib.pyplot as plt\n",
    "import tensorflow as tf\n",
    "import tensorflow.keras as keras\n",
    "import pandas as pd\n",
    "import cv2\n",
    "from numpy import mean, std \n",
    "from sklearn.model_selection import KFold, StratifiedKFold\n",
    "from tensorflow.keras.utils import to_categorical\n",
    "from tensorflow.keras.models import Sequential, load_model\n",
    "from tensorflow.keras.layers import Conv2D, Dropout, RandomFlip, RandomRotation, RandomZoom, RandomContrast, RandomCrop, MaxPooling2D, Dense, Flatten\n",
    "from tensorflow.keras.losses import SparseCategoricalCrossentropy\n",
    "from tensorflow.keras.optimizers import SGD, Adam\n",
    "from sklearn.model_selection import train_test_split, GridSearchCV\n",
    "from keras.wrappers.scikit_learn import KerasClassifier\n",
    "from sklearn.metrics import accuracy_score, confusion_matrix, classification_report\n",
    "from tensorflow.keras.layers import BatchNormalization\n",
    "from tensorflow.keras.callbacks import EarlyStopping\n",
    "import seaborn as sns\n",
    "from tensorflow.keras.utils import to_categorical\n",
    "%matplotlib inline\n",
    "plt.style.use('bmh')"
   ]
  },
  {
   "cell_type": "markdown",
   "id": "1b731d47-0c24-4a94-a8e6-c5f14ece9fc3",
   "metadata": {},
   "source": [
    "## Load your test data"
   ]
  },
  {
   "cell_type": "code",
   "execution_count": null,
   "id": "2c053c29-3d0e-4102-9a5c-dc0c082a5603",
   "metadata": {},
   "outputs": [],
   "source": [
    "data_test = np.load('data_test.npy') # replace with test data\n",
    "labels_test = np.load('labels_test.npy') # replace with test label\n",
    "\n",
    "print(data_test.shape, labels_test.shape)\n",
    "\n",
    "# Counting number samples per class\n",
    "vals, counts = np.unique(labels_test, return_counts=True)\n",
    "\n",
    "plt.bar(vals, counts)\n",
    "plt.xticks(range(10),range(10))\n",
    "plt.xlabel('Classes',size=20)\n",
    "plt.ylabel('# Samples per Class', size=20)\n",
    "plt.title('Test Data (Total = '+str(data_test.shape[1])+' samples)',size=15);"
   ]
  },
  {
   "cell_type": "markdown",
   "id": "086cc302-1a4c-411a-8f6e-5a4126e0b7ec",
   "metadata": {},
   "source": [
    "## Preprocess test data set"
   ]
  },
  {
   "cell_type": "code",
   "execution_count": null,
   "id": "a2ddf7f3-4964-4efe-8320-b9218a4763a7",
   "metadata": {},
   "outputs": [],
   "source": [
    "test_data_length = data_test.shape[1]\n",
    "pre_shape = 210 # adjusted preprocess data shape \n",
    "\n",
    "# load dataset\n",
    "preprocessed_data = []\n",
    "    \n",
    "for i in range(test_data_length):\n",
    "    preprocessed_data.append(data_test[:,i].reshape(300,300,3)) # Reshape each sample\n",
    "    preprocessed_data[i] = cv2.medianBlur(preprocessed_data[i], 3)  # Median blur\n",
    "    preprocessed_data[i] = cv2.morphologyEx(preprocessed_data[i], cv2.MORPH_OPEN, kernel)  # morphological\n",
    "    preprocessed_data[i] = cv2.resize(preprocessed_data[i], (pre_shape,pre_shape), interpolation=cv2.INTER_AREA)\n",
    "    \n",
    "preprocessed_data = np.array(preprocessed_data)\n",
    "preprocessed_data = preprocessed_data.astype('float32') / 255.0 # Convert to float and normalize data to the range of 0-1\n",
    "\n",
    "X_test = preprocessed_data\n",
    "t_test = labels_test\n",
    "\n",
    "X_test = tf.constant(X_test, dtype=tf.float16)\n",
    "X_test.shape, t_test.shape"
   ]
  },
  {
   "cell_type": "markdown",
   "id": "3063e72a-09c1-4cb7-ad80-80f989020024",
   "metadata": {},
   "source": [
    "**Evaluate method**"
   ]
  },
  {
   "cell_type": "code",
   "execution_count": 6,
   "id": "5187a7d5-e217-4af3-a78f-b899d42571cd",
   "metadata": {
    "tags": []
   },
   "outputs": [],
   "source": [
    "def Evaluate_performance(model, X_test, t_test):\n",
    "    # Prediction\n",
    "    y_test = np.argmax(model.predict(X_test), axis=1)\n",
    "    \n",
    "    # Print performance\n",
    "    print('Robotboy Model Performance:\\n')\n",
    "    print(f'{classification_report(t_test, y_test)}')\n",
    "    print(f'Accuracy: {accuracy_score(y_test, t_test)}')\n",
    "    print('Confusion Matrix')\n",
    "    print(confusion_matrix(t_test, y_test))"
   ]
  },
  {
   "cell_type": "markdown",
   "id": "0aca8dfb-8c31-413c-8df8-955a6a8dfda4",
   "metadata": {},
   "source": [
    "### Make predictions on the test set and evaluate performance"
   ]
  },
  {
   "cell_type": "code",
   "execution_count": null,
   "id": "71619ac7-83fe-4d76-916b-9da1e6038760",
   "metadata": {},
   "outputs": [],
   "source": [
    "model = keras.models.load_model('Robotboy_model.h5')\n",
    "print(model.summary())\n",
    "Evaluate_performance(model=model, X_test=X_test, t_test=t_test)"
   ]
  },
  {
   "cell_type": "code",
   "execution_count": null,
   "id": "fa05ee9b-cedb-4ed4-9fd9-d4b8583676ad",
   "metadata": {},
   "outputs": [],
   "source": []
  }
 ],
 "metadata": {
  "kernelspec": {
   "display_name": "Tensorflow-2.7.0",
   "language": "python",
   "name": "tensorflow-2.7.0"
  },
  "language_info": {
   "codemirror_mode": {
    "name": "ipython",
    "version": 3
   },
   "file_extension": ".py",
   "mimetype": "text/x-python",
   "name": "python",
   "nbconvert_exporter": "python",
   "pygments_lexer": "ipython3",
   "version": "3.9.12"
  }
 },
 "nbformat": 4,
 "nbformat_minor": 5
}
